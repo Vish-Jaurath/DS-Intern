{
  "nbformat": 4,
  "nbformat_minor": 0,
  "metadata": {
    "accelerator": "GPU",
    "colab": {
      "name": "ResNet50_DogBreed.ipynb",
      "provenance": [],
      "collapsed_sections": []
    },
    "kernelspec": {
      "display_name": "Python 3",
      "name": "python3"
    }
  },
  "cells": [
    {
      "cell_type": "markdown",
      "metadata": {
        "id": "0JfwpCERfu_u"
      },
      "source": [
        "# **Problem Statement**\r\n",
        "## **Build a dog breed image classification model using Resnet50 CNN architecture.**"
      ]
    },
    {
      "cell_type": "markdown",
      "metadata": {
        "id": "dRF2d6rQgBO6"
      },
      "source": [
        "### **In this notebook I've used transfer learning and took pre-trained model from google's Tensorflow Hub and re-train that on Dog dataset. Using pre-trained model saves a lot of time and computational budget for new classification problem at hand.**"
      ]
    },
    {
      "cell_type": "markdown",
      "metadata": {
        "id": "npdUPk-zgd9R"
      },
      "source": [
        "#### **Importing all necessary libraries**"
      ]
    },
    {
      "cell_type": "code",
      "metadata": {
        "id": "Usn-b8xqAKqK"
      },
      "source": [
        "import pandas as pd \r\n",
        "import numpy as np \r\n",
        "\r\n",
        "from keras.preprocessing.image import img_to_array,load_img,ImageDataGenerator\r\n",
        "\r\n",
        "import warnings\r\n",
        "warnings.filterwarnings(\"ignore\")"
      ],
      "execution_count": 76,
      "outputs": []
    },
    {
      "cell_type": "markdown",
      "metadata": {
        "id": "4CVOt61sgkrj"
      },
      "source": [
        "#### **Loading the Dataset**"
      ]
    },
    {
      "cell_type": "code",
      "metadata": {
        "colab": {
          "base_uri": "https://localhost:8080/",
          "height": 204
        },
        "id": "mwoqpjkQ5CNz",
        "outputId": "e3365936-6601-4023-bb34-8e915c188239"
      },
      "source": [
        "df=pd.read_csv('/content/drive/MyDrive/DL/labels.csv')\r\n",
        "df.head() "
      ],
      "execution_count": 77,
      "outputs": [
        {
          "output_type": "execute_result",
          "data": {
            "text/html": [
              "<div>\n",
              "<style scoped>\n",
              "    .dataframe tbody tr th:only-of-type {\n",
              "        vertical-align: middle;\n",
              "    }\n",
              "\n",
              "    .dataframe tbody tr th {\n",
              "        vertical-align: top;\n",
              "    }\n",
              "\n",
              "    .dataframe thead th {\n",
              "        text-align: right;\n",
              "    }\n",
              "</style>\n",
              "<table border=\"1\" class=\"dataframe\">\n",
              "  <thead>\n",
              "    <tr style=\"text-align: right;\">\n",
              "      <th></th>\n",
              "      <th>id</th>\n",
              "      <th>breed</th>\n",
              "    </tr>\n",
              "  </thead>\n",
              "  <tbody>\n",
              "    <tr>\n",
              "      <th>0</th>\n",
              "      <td>000bec180eb18c7604dcecc8fe0dba07</td>\n",
              "      <td>boston_bull</td>\n",
              "    </tr>\n",
              "    <tr>\n",
              "      <th>1</th>\n",
              "      <td>001513dfcb2ffafc82cccf4d8bbaba97</td>\n",
              "      <td>dingo</td>\n",
              "    </tr>\n",
              "    <tr>\n",
              "      <th>2</th>\n",
              "      <td>001cdf01b096e06d78e9e5112d419397</td>\n",
              "      <td>pekinese</td>\n",
              "    </tr>\n",
              "    <tr>\n",
              "      <th>3</th>\n",
              "      <td>00214f311d5d2247d5dfe4fe24b2303d</td>\n",
              "      <td>bluetick</td>\n",
              "    </tr>\n",
              "    <tr>\n",
              "      <th>4</th>\n",
              "      <td>0021f9ceb3235effd7fcde7f7538ed62</td>\n",
              "      <td>golden_retriever</td>\n",
              "    </tr>\n",
              "  </tbody>\n",
              "</table>\n",
              "</div>"
            ],
            "text/plain": [
              "                                 id             breed\n",
              "0  000bec180eb18c7604dcecc8fe0dba07       boston_bull\n",
              "1  001513dfcb2ffafc82cccf4d8bbaba97             dingo\n",
              "2  001cdf01b096e06d78e9e5112d419397          pekinese\n",
              "3  00214f311d5d2247d5dfe4fe24b2303d          bluetick\n",
              "4  0021f9ceb3235effd7fcde7f7538ed62  golden_retriever"
            ]
          },
          "metadata": {
            "tags": []
          },
          "execution_count": 77
        }
      ]
    },
    {
      "cell_type": "markdown",
      "metadata": {
        "id": "_bZJ73jXg8Ce"
      },
      "source": [
        "#### **Train Images**"
      ]
    },
    {
      "cell_type": "code",
      "metadata": {
        "colab": {
          "base_uri": "https://localhost:8080/"
        },
        "id": "Kq9h-4pyaWyn",
        "outputId": "e56980cf-df9b-4fa5-f9e6-d730e6f8873e"
      },
      "source": [
        "train_path= r'/content/drive/MyDrive/DL/train/'\r\n",
        "\r\n",
        "train_df=df.assign(img_path=lambda x: train_path + x['id'] +'.jpg')\r\n",
        "print(train_df.shape)\r\n"
      ],
      "execution_count": 78,
      "outputs": [
        {
          "output_type": "stream",
          "text": [
            "(10222, 3)\n"
          ],
          "name": "stdout"
        }
      ]
    },
    {
      "cell_type": "code",
      "metadata": {
        "colab": {
          "base_uri": "https://localhost:8080/",
          "height": 204
        },
        "id": "CWtFHFkGa5II",
        "outputId": "41c858d1-3ecc-444c-93e0-087d17ec02f9"
      },
      "source": [
        "train_df.head()"
      ],
      "execution_count": 79,
      "outputs": [
        {
          "output_type": "execute_result",
          "data": {
            "text/html": [
              "<div>\n",
              "<style scoped>\n",
              "    .dataframe tbody tr th:only-of-type {\n",
              "        vertical-align: middle;\n",
              "    }\n",
              "\n",
              "    .dataframe tbody tr th {\n",
              "        vertical-align: top;\n",
              "    }\n",
              "\n",
              "    .dataframe thead th {\n",
              "        text-align: right;\n",
              "    }\n",
              "</style>\n",
              "<table border=\"1\" class=\"dataframe\">\n",
              "  <thead>\n",
              "    <tr style=\"text-align: right;\">\n",
              "      <th></th>\n",
              "      <th>id</th>\n",
              "      <th>breed</th>\n",
              "      <th>img_path</th>\n",
              "    </tr>\n",
              "  </thead>\n",
              "  <tbody>\n",
              "    <tr>\n",
              "      <th>0</th>\n",
              "      <td>000bec180eb18c7604dcecc8fe0dba07</td>\n",
              "      <td>boston_bull</td>\n",
              "      <td>/content/drive/MyDrive/DL/train/000bec180eb18c...</td>\n",
              "    </tr>\n",
              "    <tr>\n",
              "      <th>1</th>\n",
              "      <td>001513dfcb2ffafc82cccf4d8bbaba97</td>\n",
              "      <td>dingo</td>\n",
              "      <td>/content/drive/MyDrive/DL/train/001513dfcb2ffa...</td>\n",
              "    </tr>\n",
              "    <tr>\n",
              "      <th>2</th>\n",
              "      <td>001cdf01b096e06d78e9e5112d419397</td>\n",
              "      <td>pekinese</td>\n",
              "      <td>/content/drive/MyDrive/DL/train/001cdf01b096e0...</td>\n",
              "    </tr>\n",
              "    <tr>\n",
              "      <th>3</th>\n",
              "      <td>00214f311d5d2247d5dfe4fe24b2303d</td>\n",
              "      <td>bluetick</td>\n",
              "      <td>/content/drive/MyDrive/DL/train/00214f311d5d22...</td>\n",
              "    </tr>\n",
              "    <tr>\n",
              "      <th>4</th>\n",
              "      <td>0021f9ceb3235effd7fcde7f7538ed62</td>\n",
              "      <td>golden_retriever</td>\n",
              "      <td>/content/drive/MyDrive/DL/train/0021f9ceb3235e...</td>\n",
              "    </tr>\n",
              "  </tbody>\n",
              "</table>\n",
              "</div>"
            ],
            "text/plain": [
              "                                 id  ...                                           img_path\n",
              "0  000bec180eb18c7604dcecc8fe0dba07  ...  /content/drive/MyDrive/DL/train/000bec180eb18c...\n",
              "1  001513dfcb2ffafc82cccf4d8bbaba97  ...  /content/drive/MyDrive/DL/train/001513dfcb2ffa...\n",
              "2  001cdf01b096e06d78e9e5112d419397  ...  /content/drive/MyDrive/DL/train/001cdf01b096e0...\n",
              "3  00214f311d5d2247d5dfe4fe24b2303d  ...  /content/drive/MyDrive/DL/train/00214f311d5d22...\n",
              "4  0021f9ceb3235effd7fcde7f7538ed62  ...  /content/drive/MyDrive/DL/train/0021f9ceb3235e...\n",
              "\n",
              "[5 rows x 3 columns]"
            ]
          },
          "metadata": {
            "tags": []
          },
          "execution_count": 79
        }
      ]
    },
    {
      "cell_type": "markdown",
      "metadata": {
        "id": "Tbtieqf5hXAV"
      },
      "source": [
        "##### **Extracted only these mentioned breeds: beagle, chihuahua, doberman,french_bulldog, golden_retriever, malamute, pug, saint_bernard, scottish_deerhound,tibetan_mastiff.**\r\n"
      ]
    },
    {
      "cell_type": "code",
      "metadata": {
        "colab": {
          "base_uri": "https://localhost:8080/",
          "height": 204
        },
        "id": "g6QtIvqFAswi",
        "outputId": "e75e5563-51af-4cd7-eb49-c08cfec03469"
      },
      "source": [
        "train_df1= train_df[(train_df.breed=='beagle') | (train_df.breed=='chihuahua') | (train_df.breed=='doberman') | \r\n",
        "             (train_df.breed=='french_bulldog') | (train_df.breed=='golden_retriever') | \r\n",
        "             (train_df.breed=='malamute') | (train_df.breed=='pug') | (train_df.breed=='saint_bernard') | \r\n",
        "             (train_df.breed=='scottish_deerhound') | (train_df.breed=='tibetan_mastiff')]\r\n",
        "train_df1.head()"
      ],
      "execution_count": 80,
      "outputs": [
        {
          "output_type": "execute_result",
          "data": {
            "text/html": [
              "<div>\n",
              "<style scoped>\n",
              "    .dataframe tbody tr th:only-of-type {\n",
              "        vertical-align: middle;\n",
              "    }\n",
              "\n",
              "    .dataframe tbody tr th {\n",
              "        vertical-align: top;\n",
              "    }\n",
              "\n",
              "    .dataframe thead th {\n",
              "        text-align: right;\n",
              "    }\n",
              "</style>\n",
              "<table border=\"1\" class=\"dataframe\">\n",
              "  <thead>\n",
              "    <tr style=\"text-align: right;\">\n",
              "      <th></th>\n",
              "      <th>id</th>\n",
              "      <th>breed</th>\n",
              "      <th>img_path</th>\n",
              "    </tr>\n",
              "  </thead>\n",
              "  <tbody>\n",
              "    <tr>\n",
              "      <th>4</th>\n",
              "      <td>0021f9ceb3235effd7fcde7f7538ed62</td>\n",
              "      <td>golden_retriever</td>\n",
              "      <td>/content/drive/MyDrive/DL/train/0021f9ceb3235e...</td>\n",
              "    </tr>\n",
              "    <tr>\n",
              "      <th>9</th>\n",
              "      <td>0042188c895a2f14ef64a918ed9c7b64</td>\n",
              "      <td>scottish_deerhound</td>\n",
              "      <td>/content/drive/MyDrive/DL/train/0042188c895a2f...</td>\n",
              "    </tr>\n",
              "    <tr>\n",
              "      <th>20</th>\n",
              "      <td>008b1271ed1addaccf93783b39deab45</td>\n",
              "      <td>doberman</td>\n",
              "      <td>/content/drive/MyDrive/DL/train/008b1271ed1add...</td>\n",
              "    </tr>\n",
              "    <tr>\n",
              "      <th>25</th>\n",
              "      <td>00a366d4b4a9bbb6c8a63126697b7656</td>\n",
              "      <td>golden_retriever</td>\n",
              "      <td>/content/drive/MyDrive/DL/train/00a366d4b4a9bb...</td>\n",
              "    </tr>\n",
              "    <tr>\n",
              "      <th>37</th>\n",
              "      <td>0100f55e4f0fe28f2c0465d3fc4b9897</td>\n",
              "      <td>golden_retriever</td>\n",
              "      <td>/content/drive/MyDrive/DL/train/0100f55e4f0fe2...</td>\n",
              "    </tr>\n",
              "  </tbody>\n",
              "</table>\n",
              "</div>"
            ],
            "text/plain": [
              "                                  id  ...                                           img_path\n",
              "4   0021f9ceb3235effd7fcde7f7538ed62  ...  /content/drive/MyDrive/DL/train/0021f9ceb3235e...\n",
              "9   0042188c895a2f14ef64a918ed9c7b64  ...  /content/drive/MyDrive/DL/train/0042188c895a2f...\n",
              "20  008b1271ed1addaccf93783b39deab45  ...  /content/drive/MyDrive/DL/train/008b1271ed1add...\n",
              "25  00a366d4b4a9bbb6c8a63126697b7656  ...  /content/drive/MyDrive/DL/train/00a366d4b4a9bb...\n",
              "37  0100f55e4f0fe28f2c0465d3fc4b9897  ...  /content/drive/MyDrive/DL/train/0100f55e4f0fe2...\n",
              "\n",
              "[5 rows x 3 columns]"
            ]
          },
          "metadata": {
            "tags": []
          },
          "execution_count": 80
        }
      ]
    },
    {
      "cell_type": "markdown",
      "metadata": {
        "id": "kKP3o30Lh27f"
      },
      "source": [
        "##### **Converted each image from 'train_df.img_path' into NumPy array for use with deep learning models using img_to_array() function.**"
      ]
    },
    {
      "cell_type": "code",
      "metadata": {
        "colab": {
          "base_uri": "https://localhost:8080/"
        },
        "id": "yjOoFbyYbiVL",
        "outputId": "3979f6ba-0394-467d-bfb6-3eb341886e54"
      },
      "source": [
        "X=np.array([img_to_array(load_img(img, target_size=(224, 224))) for img in train_df1['img_path'].values.tolist()])\r\n",
        "X.shape"
      ],
      "execution_count": 81,
      "outputs": [
        {
          "output_type": "execute_result",
          "data": {
            "text/plain": [
              "(841, 224, 224, 3)"
            ]
          },
          "metadata": {
            "tags": []
          },
          "execution_count": 81
        }
      ]
    },
    {
      "cell_type": "markdown",
      "metadata": {
        "id": "e9uUZqdDi6Gc"
      },
      "source": [
        "##### **Encoding Categorical Values in train_df1.breed**"
      ]
    },
    {
      "cell_type": "code",
      "metadata": {
        "colab": {
          "base_uri": "https://localhost:8080/"
        },
        "id": "ETbjtgTLDPgh",
        "outputId": "2cd4e4a4-11a0-45d4-a4f2-d0f6d0db1be4"
      },
      "source": [
        "train_df1.breed = train_df1.breed.astype('category')\r\n",
        "train_df1.dtypes"
      ],
      "execution_count": 82,
      "outputs": [
        {
          "output_type": "execute_result",
          "data": {
            "text/plain": [
              "id            object\n",
              "breed       category\n",
              "img_path      object\n",
              "dtype: object"
            ]
          },
          "metadata": {
            "tags": []
          },
          "execution_count": 82
        }
      ]
    },
    {
      "cell_type": "code",
      "metadata": {
        "colab": {
          "base_uri": "https://localhost:8080/"
        },
        "id": "7aqz4Hz0DPbR",
        "outputId": "aa4bddf3-f5ae-44c6-833b-7ea521b1680b"
      },
      "source": [
        "train_df1[\"breed_cat\"] = train_df1.breed.cat.codes\r\n",
        "train_df1.breed_cat.unique()"
      ],
      "execution_count": 83,
      "outputs": [
        {
          "output_type": "execute_result",
          "data": {
            "text/plain": [
              "array([4, 8, 2, 5, 1, 6, 7, 0, 3, 9], dtype=int8)"
            ]
          },
          "metadata": {
            "tags": []
          },
          "execution_count": 83
        }
      ]
    },
    {
      "cell_type": "code",
      "metadata": {
        "id": "1hUzRugyD1HT"
      },
      "source": [
        "y= train_df1.iloc[:,-1]  # Target column"
      ],
      "execution_count": 84,
      "outputs": []
    },
    {
      "cell_type": "code",
      "metadata": {
        "id": "tF6BXTUhi3z8",
        "colab": {
          "base_uri": "https://localhost:8080/"
        },
        "outputId": "8fd26587-3874-43a3-c7ee-b5e81990e648"
      },
      "source": [
        "X[0]"
      ],
      "execution_count": 85,
      "outputs": [
        {
          "output_type": "execute_result",
          "data": {
            "text/plain": [
              "array([[[ 83.,  85.,  82.],\n",
              "        [ 83.,  85.,  82.],\n",
              "        [ 83.,  85.,  82.],\n",
              "        ...,\n",
              "        [ 86.,  86.,  84.],\n",
              "        [ 78.,  84.,  80.],\n",
              "        [ 78.,  84.,  80.]],\n",
              "\n",
              "       [[ 78.,  80.,  77.],\n",
              "        [ 78.,  80.,  77.],\n",
              "        [ 78.,  80.,  77.],\n",
              "        ...,\n",
              "        [ 86.,  86.,  84.],\n",
              "        [ 78.,  84.,  80.],\n",
              "        [ 78.,  84.,  80.]],\n",
              "\n",
              "       [[ 79.,  81.,  78.],\n",
              "        [ 79.,  81.,  78.],\n",
              "        [ 79.,  81.,  78.],\n",
              "        ...,\n",
              "        [ 86.,  86.,  84.],\n",
              "        [ 79.,  84.,  80.],\n",
              "        [ 79.,  84.,  80.]],\n",
              "\n",
              "       ...,\n",
              "\n",
              "       [[141., 141., 139.],\n",
              "        [ 70.,  70.,  68.],\n",
              "        [ 76.,  76.,  74.],\n",
              "        ...,\n",
              "        [ 85.,  87.,  84.],\n",
              "        [ 80.,  82.,  77.],\n",
              "        [ 89.,  91.,  86.]],\n",
              "\n",
              "       [[ 76.,  78.,  75.],\n",
              "        [ 87.,  89.,  86.],\n",
              "        [ 91.,  93.,  90.],\n",
              "        ...,\n",
              "        [ 85.,  87.,  84.],\n",
              "        [ 85.,  86.,  81.],\n",
              "        [ 86.,  87.,  82.]],\n",
              "\n",
              "       [[ 93.,  95.,  92.],\n",
              "        [ 90.,  92.,  89.],\n",
              "        [ 87.,  89.,  86.],\n",
              "        ...,\n",
              "        [ 93.,  95.,  92.],\n",
              "        [ 90.,  91.,  86.],\n",
              "        [ 90.,  91.,  86.]]], dtype=float32)"
            ]
          },
          "metadata": {
            "tags": []
          },
          "execution_count": 85
        }
      ]
    },
    {
      "cell_type": "markdown",
      "metadata": {
        "id": "Tq7B8uaIjUhk"
      },
      "source": [
        "##### **Preprocessing: scale images**"
      ]
    },
    {
      "cell_type": "code",
      "metadata": {
        "id": "qvYdQusHD0S7"
      },
      "source": [
        "X= np.array(X)\r\n",
        "X= X/255\r\n",
        "y= np.array(y)"
      ],
      "execution_count": 86,
      "outputs": []
    },
    {
      "cell_type": "markdown",
      "metadata": {
        "id": "dLMIRo-2jhnH"
      },
      "source": [
        "##### **Importing all necessary libraries for Neural network**"
      ]
    },
    {
      "cell_type": "code",
      "metadata": {
        "id": "Ld7yHcDBbiIj"
      },
      "source": [
        "import tensorflow_hub\r\n",
        "from tensorflow.keras import layers, models "
      ],
      "execution_count": 87,
      "outputs": []
    },
    {
      "cell_type": "markdown",
      "metadata": {
        "id": "EY6foflwjxba"
      },
      "source": [
        "##### **Creating classifier using Resnet50.**"
      ]
    },
    {
      "cell_type": "code",
      "metadata": {
        "id": "bIgzwFExbiBa"
      },
      "source": [
        "model = models.Sequential([\r\n",
        "    tensorflow_hub.KerasLayer(\"https://tfhub.dev/tensorflow/resnet_50/feature_vector/1\", input_shape=(224, 224, 3), trainable=False),\r\n",
        "    layers.Dense(10,activation='softmax')\r\n",
        "])\r\n"
      ],
      "execution_count": 88,
      "outputs": []
    },
    {
      "cell_type": "markdown",
      "metadata": {
        "id": "lT_hA5SokBeg"
      },
      "source": [
        "##### **Train test split**"
      ]
    },
    {
      "cell_type": "code",
      "metadata": {
        "id": "sd6CP_uobh-h"
      },
      "source": [
        "from sklearn.model_selection import train_test_split\r\n",
        "X_train, X_test, y_train, y_test = train_test_split(X, y, test_size= 0.28, random_state=6)"
      ],
      "execution_count": 89,
      "outputs": []
    },
    {
      "cell_type": "code",
      "metadata": {
        "id": "9mlzZdh8bh41",
        "colab": {
          "base_uri": "https://localhost:8080/"
        },
        "outputId": "5d85db2e-cf84-4706-b009-ad4a8283cf29"
      },
      "source": [
        "model.summary()"
      ],
      "execution_count": 90,
      "outputs": [
        {
          "output_type": "stream",
          "text": [
            "Model: \"sequential_2\"\n",
            "_________________________________________________________________\n",
            "Layer (type)                 Output Shape              Param #   \n",
            "=================================================================\n",
            "keras_layer_2 (KerasLayer)   (None, 2048)              23561152  \n",
            "_________________________________________________________________\n",
            "dense_2 (Dense)              (None, 10)                20490     \n",
            "=================================================================\n",
            "Total params: 23,581,642\n",
            "Trainable params: 20,490\n",
            "Non-trainable params: 23,561,152\n",
            "_________________________________________________________________\n"
          ],
          "name": "stdout"
        }
      ]
    },
    {
      "cell_type": "code",
      "metadata": {
        "id": "Fch3mArVbh0j"
      },
      "source": [
        "model.compile(\r\n",
        "  optimizer=\"adam\",\r\n",
        "  loss=\"sparse_categorical_crossentropy\",\r\n",
        "  metrics=['accuracy'])"
      ],
      "execution_count": 91,
      "outputs": []
    },
    {
      "cell_type": "markdown",
      "metadata": {
        "id": "gRDOI784kOx7"
      },
      "source": [
        "##### **Train the Model**"
      ]
    },
    {
      "cell_type": "code",
      "metadata": {
        "id": "uIh0noT2bhwY",
        "colab": {
          "base_uri": "https://localhost:8080/"
        },
        "outputId": "2edbdf0d-9ccc-4759-b644-4b0ff06601f1"
      },
      "source": [
        "model.fit(X_train, y_train, validation_split=0.35, batch_size = 10, epochs = 100)"
      ],
      "execution_count": 92,
      "outputs": [
        {
          "output_type": "stream",
          "text": [
            "Epoch 1/100\n",
            "40/40 [==============================] - 9s 95ms/step - loss: 1.7270 - accuracy: 0.4644 - val_loss: 0.2233 - val_accuracy: 0.9528\n",
            "Epoch 2/100\n",
            "40/40 [==============================] - 3s 78ms/step - loss: 0.1495 - accuracy: 0.9759 - val_loss: 0.1315 - val_accuracy: 0.9764\n",
            "Epoch 3/100\n",
            "40/40 [==============================] - 3s 78ms/step - loss: 0.0604 - accuracy: 1.0000 - val_loss: 0.1100 - val_accuracy: 0.9811\n",
            "Epoch 4/100\n",
            "40/40 [==============================] - 3s 78ms/step - loss: 0.0281 - accuracy: 1.0000 - val_loss: 0.1032 - val_accuracy: 0.9717\n",
            "Epoch 5/100\n",
            "40/40 [==============================] - 3s 77ms/step - loss: 0.0213 - accuracy: 1.0000 - val_loss: 0.0921 - val_accuracy: 0.9811\n",
            "Epoch 6/100\n",
            "40/40 [==============================] - 3s 77ms/step - loss: 0.0202 - accuracy: 1.0000 - val_loss: 0.0854 - val_accuracy: 0.9811\n",
            "Epoch 7/100\n",
            "40/40 [==============================] - 3s 77ms/step - loss: 0.0137 - accuracy: 1.0000 - val_loss: 0.0837 - val_accuracy: 0.9764\n",
            "Epoch 8/100\n",
            "40/40 [==============================] - 3s 78ms/step - loss: 0.0120 - accuracy: 1.0000 - val_loss: 0.0765 - val_accuracy: 0.9811\n",
            "Epoch 9/100\n",
            "40/40 [==============================] - 3s 78ms/step - loss: 0.0098 - accuracy: 1.0000 - val_loss: 0.0739 - val_accuracy: 0.9764\n",
            "Epoch 10/100\n",
            "40/40 [==============================] - 3s 78ms/step - loss: 0.0070 - accuracy: 1.0000 - val_loss: 0.0740 - val_accuracy: 0.9764\n",
            "Epoch 11/100\n",
            "40/40 [==============================] - 3s 78ms/step - loss: 0.0065 - accuracy: 1.0000 - val_loss: 0.0701 - val_accuracy: 0.9811\n",
            "Epoch 12/100\n",
            "40/40 [==============================] - 3s 77ms/step - loss: 0.0055 - accuracy: 1.0000 - val_loss: 0.0686 - val_accuracy: 0.9811\n",
            "Epoch 13/100\n",
            "40/40 [==============================] - 3s 78ms/step - loss: 0.0052 - accuracy: 1.0000 - val_loss: 0.0666 - val_accuracy: 0.9811\n",
            "Epoch 14/100\n",
            "40/40 [==============================] - 3s 77ms/step - loss: 0.0051 - accuracy: 1.0000 - val_loss: 0.0648 - val_accuracy: 0.9764\n",
            "Epoch 15/100\n",
            "40/40 [==============================] - 3s 77ms/step - loss: 0.0042 - accuracy: 1.0000 - val_loss: 0.0633 - val_accuracy: 0.9811\n",
            "Epoch 16/100\n",
            "40/40 [==============================] - 3s 77ms/step - loss: 0.0037 - accuracy: 1.0000 - val_loss: 0.0620 - val_accuracy: 0.9811\n",
            "Epoch 17/100\n",
            "40/40 [==============================] - 3s 78ms/step - loss: 0.0033 - accuracy: 1.0000 - val_loss: 0.0614 - val_accuracy: 0.9858\n",
            "Epoch 18/100\n",
            "40/40 [==============================] - 3s 77ms/step - loss: 0.0032 - accuracy: 1.0000 - val_loss: 0.0606 - val_accuracy: 0.9858\n",
            "Epoch 19/100\n",
            "40/40 [==============================] - 3s 77ms/step - loss: 0.0029 - accuracy: 1.0000 - val_loss: 0.0593 - val_accuracy: 0.9858\n",
            "Epoch 20/100\n",
            "40/40 [==============================] - 3s 77ms/step - loss: 0.0024 - accuracy: 1.0000 - val_loss: 0.0588 - val_accuracy: 0.9858\n",
            "Epoch 21/100\n",
            "40/40 [==============================] - 3s 77ms/step - loss: 0.0025 - accuracy: 1.0000 - val_loss: 0.0586 - val_accuracy: 0.9858\n",
            "Epoch 22/100\n",
            "40/40 [==============================] - 3s 77ms/step - loss: 0.0022 - accuracy: 1.0000 - val_loss: 0.0576 - val_accuracy: 0.9858\n",
            "Epoch 23/100\n",
            "40/40 [==============================] - 3s 78ms/step - loss: 0.0021 - accuracy: 1.0000 - val_loss: 0.0569 - val_accuracy: 0.9858\n",
            "Epoch 24/100\n",
            "40/40 [==============================] - 3s 77ms/step - loss: 0.0020 - accuracy: 1.0000 - val_loss: 0.0559 - val_accuracy: 0.9858\n",
            "Epoch 25/100\n",
            "40/40 [==============================] - 3s 78ms/step - loss: 0.0017 - accuracy: 1.0000 - val_loss: 0.0557 - val_accuracy: 0.9858\n",
            "Epoch 26/100\n",
            "40/40 [==============================] - 3s 77ms/step - loss: 0.0018 - accuracy: 1.0000 - val_loss: 0.0561 - val_accuracy: 0.9858\n",
            "Epoch 27/100\n",
            "40/40 [==============================] - 3s 77ms/step - loss: 0.0018 - accuracy: 1.0000 - val_loss: 0.0550 - val_accuracy: 0.9858\n",
            "Epoch 28/100\n",
            "40/40 [==============================] - 3s 77ms/step - loss: 0.0016 - accuracy: 1.0000 - val_loss: 0.0547 - val_accuracy: 0.9858\n",
            "Epoch 29/100\n",
            "40/40 [==============================] - 3s 77ms/step - loss: 0.0015 - accuracy: 1.0000 - val_loss: 0.0549 - val_accuracy: 0.9858\n",
            "Epoch 30/100\n",
            "40/40 [==============================] - 3s 77ms/step - loss: 0.0015 - accuracy: 1.0000 - val_loss: 0.0541 - val_accuracy: 0.9858\n",
            "Epoch 31/100\n",
            "40/40 [==============================] - 3s 77ms/step - loss: 0.0013 - accuracy: 1.0000 - val_loss: 0.0535 - val_accuracy: 0.9858\n",
            "Epoch 32/100\n",
            "40/40 [==============================] - 3s 77ms/step - loss: 0.0011 - accuracy: 1.0000 - val_loss: 0.0533 - val_accuracy: 0.9858\n",
            "Epoch 33/100\n",
            "40/40 [==============================] - 3s 78ms/step - loss: 0.0012 - accuracy: 1.0000 - val_loss: 0.0527 - val_accuracy: 0.9858\n",
            "Epoch 34/100\n",
            "40/40 [==============================] - 3s 77ms/step - loss: 0.0012 - accuracy: 1.0000 - val_loss: 0.0521 - val_accuracy: 0.9858\n",
            "Epoch 35/100\n",
            "40/40 [==============================] - 3s 76ms/step - loss: 0.0011 - accuracy: 1.0000 - val_loss: 0.0515 - val_accuracy: 0.9858\n",
            "Epoch 36/100\n",
            "40/40 [==============================] - 3s 77ms/step - loss: 0.0012 - accuracy: 1.0000 - val_loss: 0.0524 - val_accuracy: 0.9858\n",
            "Epoch 37/100\n",
            "40/40 [==============================] - 3s 77ms/step - loss: 0.0011 - accuracy: 1.0000 - val_loss: 0.0518 - val_accuracy: 0.9858\n",
            "Epoch 38/100\n",
            "40/40 [==============================] - 3s 78ms/step - loss: 0.0010 - accuracy: 1.0000 - val_loss: 0.0509 - val_accuracy: 0.9858\n",
            "Epoch 39/100\n",
            "40/40 [==============================] - 3s 78ms/step - loss: 8.2942e-04 - accuracy: 1.0000 - val_loss: 0.0508 - val_accuracy: 0.9858\n",
            "Epoch 40/100\n",
            "40/40 [==============================] - 3s 78ms/step - loss: 7.8171e-04 - accuracy: 1.0000 - val_loss: 0.0503 - val_accuracy: 0.9858\n",
            "Epoch 41/100\n",
            "40/40 [==============================] - 3s 78ms/step - loss: 8.5472e-04 - accuracy: 1.0000 - val_loss: 0.0504 - val_accuracy: 0.9858\n",
            "Epoch 42/100\n",
            "40/40 [==============================] - 3s 78ms/step - loss: 8.5783e-04 - accuracy: 1.0000 - val_loss: 0.0503 - val_accuracy: 0.9858\n",
            "Epoch 43/100\n",
            "40/40 [==============================] - 3s 79ms/step - loss: 7.4880e-04 - accuracy: 1.0000 - val_loss: 0.0499 - val_accuracy: 0.9858\n",
            "Epoch 44/100\n",
            "40/40 [==============================] - 3s 77ms/step - loss: 7.0550e-04 - accuracy: 1.0000 - val_loss: 0.0487 - val_accuracy: 0.9858\n",
            "Epoch 45/100\n",
            "40/40 [==============================] - 3s 78ms/step - loss: 6.1155e-04 - accuracy: 1.0000 - val_loss: 0.0493 - val_accuracy: 0.9858\n",
            "Epoch 46/100\n",
            "40/40 [==============================] - 3s 78ms/step - loss: 6.7856e-04 - accuracy: 1.0000 - val_loss: 0.0495 - val_accuracy: 0.9858\n",
            "Epoch 47/100\n",
            "40/40 [==============================] - 3s 79ms/step - loss: 6.6086e-04 - accuracy: 1.0000 - val_loss: 0.0490 - val_accuracy: 0.9858\n",
            "Epoch 48/100\n",
            "40/40 [==============================] - 3s 79ms/step - loss: 6.0724e-04 - accuracy: 1.0000 - val_loss: 0.0490 - val_accuracy: 0.9858\n",
            "Epoch 49/100\n",
            "40/40 [==============================] - 3s 78ms/step - loss: 5.6741e-04 - accuracy: 1.0000 - val_loss: 0.0491 - val_accuracy: 0.9858\n",
            "Epoch 50/100\n",
            "40/40 [==============================] - 3s 78ms/step - loss: 5.5110e-04 - accuracy: 1.0000 - val_loss: 0.0489 - val_accuracy: 0.9858\n",
            "Epoch 51/100\n",
            "40/40 [==============================] - 3s 79ms/step - loss: 5.9478e-04 - accuracy: 1.0000 - val_loss: 0.0481 - val_accuracy: 0.9858\n",
            "Epoch 52/100\n",
            "40/40 [==============================] - 3s 79ms/step - loss: 5.4491e-04 - accuracy: 1.0000 - val_loss: 0.0485 - val_accuracy: 0.9858\n",
            "Epoch 53/100\n",
            "40/40 [==============================] - 3s 78ms/step - loss: 4.9965e-04 - accuracy: 1.0000 - val_loss: 0.0483 - val_accuracy: 0.9858\n",
            "Epoch 54/100\n",
            "40/40 [==============================] - 3s 80ms/step - loss: 5.1426e-04 - accuracy: 1.0000 - val_loss: 0.0477 - val_accuracy: 0.9858\n",
            "Epoch 55/100\n",
            "40/40 [==============================] - 3s 79ms/step - loss: 4.4995e-04 - accuracy: 1.0000 - val_loss: 0.0479 - val_accuracy: 0.9858\n",
            "Epoch 56/100\n",
            "40/40 [==============================] - 3s 79ms/step - loss: 4.9800e-04 - accuracy: 1.0000 - val_loss: 0.0478 - val_accuracy: 0.9858\n",
            "Epoch 57/100\n",
            "40/40 [==============================] - 3s 80ms/step - loss: 4.3298e-04 - accuracy: 1.0000 - val_loss: 0.0471 - val_accuracy: 0.9858\n",
            "Epoch 58/100\n",
            "40/40 [==============================] - 3s 79ms/step - loss: 4.4406e-04 - accuracy: 1.0000 - val_loss: 0.0475 - val_accuracy: 0.9858\n",
            "Epoch 59/100\n",
            "40/40 [==============================] - 3s 79ms/step - loss: 4.3866e-04 - accuracy: 1.0000 - val_loss: 0.0478 - val_accuracy: 0.9858\n",
            "Epoch 60/100\n",
            "40/40 [==============================] - 3s 80ms/step - loss: 3.7301e-04 - accuracy: 1.0000 - val_loss: 0.0470 - val_accuracy: 0.9858\n",
            "Epoch 61/100\n",
            "40/40 [==============================] - 3s 79ms/step - loss: 4.0938e-04 - accuracy: 1.0000 - val_loss: 0.0469 - val_accuracy: 0.9858\n",
            "Epoch 62/100\n",
            "40/40 [==============================] - 3s 79ms/step - loss: 3.6625e-04 - accuracy: 1.0000 - val_loss: 0.0470 - val_accuracy: 0.9858\n",
            "Epoch 63/100\n",
            "40/40 [==============================] - 3s 79ms/step - loss: 3.5913e-04 - accuracy: 1.0000 - val_loss: 0.0469 - val_accuracy: 0.9858\n",
            "Epoch 64/100\n",
            "40/40 [==============================] - 3s 79ms/step - loss: 4.0504e-04 - accuracy: 1.0000 - val_loss: 0.0466 - val_accuracy: 0.9858\n",
            "Epoch 65/100\n",
            "40/40 [==============================] - 3s 79ms/step - loss: 3.5701e-04 - accuracy: 1.0000 - val_loss: 0.0465 - val_accuracy: 0.9858\n",
            "Epoch 66/100\n",
            "40/40 [==============================] - 3s 80ms/step - loss: 3.4455e-04 - accuracy: 1.0000 - val_loss: 0.0463 - val_accuracy: 0.9858\n",
            "Epoch 67/100\n",
            "40/40 [==============================] - 3s 81ms/step - loss: 3.1418e-04 - accuracy: 1.0000 - val_loss: 0.0467 - val_accuracy: 0.9858\n",
            "Epoch 68/100\n",
            "40/40 [==============================] - 3s 81ms/step - loss: 3.0339e-04 - accuracy: 1.0000 - val_loss: 0.0462 - val_accuracy: 0.9858\n",
            "Epoch 69/100\n",
            "40/40 [==============================] - 3s 80ms/step - loss: 3.1675e-04 - accuracy: 1.0000 - val_loss: 0.0461 - val_accuracy: 0.9858\n",
            "Epoch 70/100\n",
            "40/40 [==============================] - 3s 80ms/step - loss: 2.9093e-04 - accuracy: 1.0000 - val_loss: 0.0460 - val_accuracy: 0.9858\n",
            "Epoch 71/100\n",
            "40/40 [==============================] - 3s 80ms/step - loss: 3.1195e-04 - accuracy: 1.0000 - val_loss: 0.0462 - val_accuracy: 0.9858\n",
            "Epoch 72/100\n",
            "40/40 [==============================] - 3s 80ms/step - loss: 2.8952e-04 - accuracy: 1.0000 - val_loss: 0.0457 - val_accuracy: 0.9858\n",
            "Epoch 73/100\n",
            "40/40 [==============================] - 3s 80ms/step - loss: 2.4875e-04 - accuracy: 1.0000 - val_loss: 0.0454 - val_accuracy: 0.9858\n",
            "Epoch 74/100\n",
            "40/40 [==============================] - 3s 80ms/step - loss: 2.7434e-04 - accuracy: 1.0000 - val_loss: 0.0458 - val_accuracy: 0.9858\n",
            "Epoch 75/100\n",
            "40/40 [==============================] - 3s 80ms/step - loss: 2.5353e-04 - accuracy: 1.0000 - val_loss: 0.0454 - val_accuracy: 0.9858\n",
            "Epoch 76/100\n",
            "40/40 [==============================] - 3s 80ms/step - loss: 2.3723e-04 - accuracy: 1.0000 - val_loss: 0.0455 - val_accuracy: 0.9858\n",
            "Epoch 77/100\n",
            "40/40 [==============================] - 3s 80ms/step - loss: 2.4562e-04 - accuracy: 1.0000 - val_loss: 0.0453 - val_accuracy: 0.9858\n",
            "Epoch 78/100\n",
            "40/40 [==============================] - 3s 80ms/step - loss: 2.4253e-04 - accuracy: 1.0000 - val_loss: 0.0453 - val_accuracy: 0.9858\n",
            "Epoch 79/100\n",
            "40/40 [==============================] - 3s 80ms/step - loss: 2.4098e-04 - accuracy: 1.0000 - val_loss: 0.0451 - val_accuracy: 0.9858\n",
            "Epoch 80/100\n",
            "40/40 [==============================] - 3s 81ms/step - loss: 2.2230e-04 - accuracy: 1.0000 - val_loss: 0.0449 - val_accuracy: 0.9858\n",
            "Epoch 81/100\n",
            "40/40 [==============================] - 3s 80ms/step - loss: 2.0951e-04 - accuracy: 1.0000 - val_loss: 0.0447 - val_accuracy: 0.9858\n",
            "Epoch 82/100\n",
            "40/40 [==============================] - 3s 81ms/step - loss: 2.2846e-04 - accuracy: 1.0000 - val_loss: 0.0453 - val_accuracy: 0.9858\n",
            "Epoch 83/100\n",
            "40/40 [==============================] - 3s 80ms/step - loss: 2.2235e-04 - accuracy: 1.0000 - val_loss: 0.0446 - val_accuracy: 0.9858\n",
            "Epoch 84/100\n",
            "40/40 [==============================] - 3s 80ms/step - loss: 1.9875e-04 - accuracy: 1.0000 - val_loss: 0.0448 - val_accuracy: 0.9858\n",
            "Epoch 85/100\n",
            "40/40 [==============================] - 3s 81ms/step - loss: 1.8513e-04 - accuracy: 1.0000 - val_loss: 0.0446 - val_accuracy: 0.9858\n",
            "Epoch 86/100\n",
            "40/40 [==============================] - 3s 80ms/step - loss: 2.1346e-04 - accuracy: 1.0000 - val_loss: 0.0444 - val_accuracy: 0.9858\n",
            "Epoch 87/100\n",
            "40/40 [==============================] - 3s 81ms/step - loss: 2.1430e-04 - accuracy: 1.0000 - val_loss: 0.0445 - val_accuracy: 0.9858\n",
            "Epoch 88/100\n",
            "40/40 [==============================] - 3s 81ms/step - loss: 1.8203e-04 - accuracy: 1.0000 - val_loss: 0.0446 - val_accuracy: 0.9858\n",
            "Epoch 89/100\n",
            "40/40 [==============================] - 3s 81ms/step - loss: 1.7590e-04 - accuracy: 1.0000 - val_loss: 0.0445 - val_accuracy: 0.9858\n",
            "Epoch 90/100\n",
            "40/40 [==============================] - 3s 81ms/step - loss: 1.6734e-04 - accuracy: 1.0000 - val_loss: 0.0445 - val_accuracy: 0.9858\n",
            "Epoch 91/100\n",
            "40/40 [==============================] - 3s 82ms/step - loss: 1.8819e-04 - accuracy: 1.0000 - val_loss: 0.0442 - val_accuracy: 0.9858\n",
            "Epoch 92/100\n",
            "40/40 [==============================] - 3s 80ms/step - loss: 1.6601e-04 - accuracy: 1.0000 - val_loss: 0.0442 - val_accuracy: 0.9858\n",
            "Epoch 93/100\n",
            "40/40 [==============================] - 3s 82ms/step - loss: 1.4540e-04 - accuracy: 1.0000 - val_loss: 0.0440 - val_accuracy: 0.9858\n",
            "Epoch 94/100\n",
            "40/40 [==============================] - 3s 82ms/step - loss: 1.3573e-04 - accuracy: 1.0000 - val_loss: 0.0441 - val_accuracy: 0.9858\n",
            "Epoch 95/100\n",
            "40/40 [==============================] - 3s 82ms/step - loss: 1.5062e-04 - accuracy: 1.0000 - val_loss: 0.0443 - val_accuracy: 0.9858\n",
            "Epoch 96/100\n",
            "40/40 [==============================] - 3s 82ms/step - loss: 1.6232e-04 - accuracy: 1.0000 - val_loss: 0.0440 - val_accuracy: 0.9858\n",
            "Epoch 97/100\n",
            "40/40 [==============================] - 3s 81ms/step - loss: 1.3649e-04 - accuracy: 1.0000 - val_loss: 0.0440 - val_accuracy: 0.9858\n",
            "Epoch 98/100\n",
            "40/40 [==============================] - 3s 82ms/step - loss: 1.5133e-04 - accuracy: 1.0000 - val_loss: 0.0437 - val_accuracy: 0.9858\n",
            "Epoch 99/100\n",
            "40/40 [==============================] - 3s 82ms/step - loss: 1.3775e-04 - accuracy: 1.0000 - val_loss: 0.0435 - val_accuracy: 0.9858\n",
            "Epoch 100/100\n",
            "40/40 [==============================] - 3s 80ms/step - loss: 1.3689e-04 - accuracy: 1.0000 - val_loss: 0.0436 - val_accuracy: 0.9858\n"
          ],
          "name": "stdout"
        },
        {
          "output_type": "execute_result",
          "data": {
            "text/plain": [
              "<tensorflow.python.keras.callbacks.History at 0x7f14637daad0>"
            ]
          },
          "metadata": {
            "tags": []
          },
          "execution_count": 92
        }
      ]
    },
    {
      "cell_type": "code",
      "metadata": {
        "id": "bKGDElcpbhsi",
        "colab": {
          "base_uri": "https://localhost:8080/"
        },
        "outputId": "3b6775a8-ff3f-4bea-bc7c-81beb34e17f0"
      },
      "source": [
        "model.evaluate(X_test,y_test)"
      ],
      "execution_count": 93,
      "outputs": [
        {
          "output_type": "stream",
          "text": [
            "8/8 [==============================] - 1s 129ms/step - loss: 0.0985 - accuracy: 0.9788\n"
          ],
          "name": "stdout"
        },
        {
          "output_type": "execute_result",
          "data": {
            "text/plain": [
              "[0.09849816560745239, 0.9788135886192322]"
            ]
          },
          "metadata": {
            "tags": []
          },
          "execution_count": 93
        }
      ]
    },
    {
      "cell_type": "markdown",
      "metadata": {
        "id": "hRvgf_xTkUnR"
      },
      "source": [
        "##### **Making Prediction**"
      ]
    },
    {
      "cell_type": "code",
      "metadata": {
        "colab": {
          "base_uri": "https://localhost:8080/"
        },
        "id": "_vPTkyMcZ9Za",
        "outputId": "da15e8b2-a3dd-4478-8b4e-85f0b65824f5"
      },
      "source": [
        "prediction= model.predict(X_test)\r\n",
        "prediction[:5]"
      ],
      "execution_count": 94,
      "outputs": [
        {
          "output_type": "execute_result",
          "data": {
            "text/plain": [
              "array([[1.81716605e-05, 3.95056441e-06, 6.14519536e-07, 3.44764516e-07,\n",
              "        9.99895334e-01, 2.88215824e-06, 4.97287510e-06, 2.23245534e-05,\n",
              "        1.76987869e-05, 3.37291713e-05],\n",
              "       [9.99450147e-01, 1.51452841e-04, 1.71938973e-06, 5.09330948e-06,\n",
              "        2.41722337e-05, 1.26367615e-06, 2.31540099e-07, 3.48651432e-04,\n",
              "        1.72744058e-05, 2.36950122e-08],\n",
              "       [1.97156478e-04, 8.91401360e-05, 9.61818223e-05, 3.96355790e-06,\n",
              "        2.32230218e-06, 9.98851776e-01, 6.70679146e-05, 1.35368609e-05,\n",
              "        1.02198108e-04, 5.76590886e-04],\n",
              "       [5.00908093e-10, 3.62032937e-09, 1.00000000e+00, 5.60127944e-09,\n",
              "        1.35026296e-10, 1.15096516e-10, 5.12816872e-11, 3.06524320e-11,\n",
              "        2.76473973e-08, 8.93974117e-10],\n",
              "       [4.23081365e-05, 3.17794786e-07, 9.33097333e-09, 1.31199798e-07,\n",
              "        9.99956846e-01, 9.48811518e-09, 7.02759362e-09, 1.80223481e-07,\n",
              "        8.17725834e-08, 3.18220272e-09]], dtype=float32)"
            ]
          },
          "metadata": {
            "tags": []
          },
          "execution_count": 94
        }
      ]
    },
    {
      "cell_type": "code",
      "metadata": {
        "colab": {
          "base_uri": "https://localhost:8080/"
        },
        "id": "TUfCYUgxZ9WS",
        "outputId": "26444cb0-29de-46bc-bf85-a980f7b72777"
      },
      "source": [
        "predicted = [np.argmax(i) for i in prediction]\r\n",
        "predicted[:5]"
      ],
      "execution_count": 95,
      "outputs": [
        {
          "output_type": "execute_result",
          "data": {
            "text/plain": [
              "[4, 0, 5, 2, 4]"
            ]
          },
          "metadata": {
            "tags": []
          },
          "execution_count": 95
        }
      ]
    },
    {
      "cell_type": "markdown",
      "metadata": {
        "id": "fD3Qf0-7kdDU"
      },
      "source": [
        "##### **Importing all necessary libraries for Evaluating the Model Performance**"
      ]
    },
    {
      "cell_type": "code",
      "metadata": {
        "id": "4HiEkNSLcBIz"
      },
      "source": [
        "from sklearn.metrics import classification_report, confusion_matrix, roc_auc_score"
      ],
      "execution_count": 96,
      "outputs": []
    },
    {
      "cell_type": "markdown",
      "metadata": {
        "id": "Tiq6gawlnHxc"
      },
      "source": [
        "##### **Classification Report**"
      ]
    },
    {
      "cell_type": "code",
      "metadata": {
        "colab": {
          "base_uri": "https://localhost:8080/"
        },
        "id": "M-E99htPbOxE",
        "outputId": "e210a1d3-56f6-4611-8abd-19a2913dfd7c"
      },
      "source": [
        "target_names = ['beagle', 'chihuahua', 'doberman', 'french_bulldog', 'golden_retriever', 'malamute', 'pug', 'saint_bernard', 'scottish_deerhound', 'tibetan_mastiff']\r\n",
        "print(classification_report(y_test, predicted, target_names=target_names))"
      ],
      "execution_count": 97,
      "outputs": [
        {
          "output_type": "stream",
          "text": [
            "                    precision    recall  f1-score   support\n",
            "\n",
            "            beagle       1.00      1.00      1.00        35\n",
            "         chihuahua       0.88      1.00      0.94        15\n",
            "          doberman       1.00      0.94      0.97        18\n",
            "    french_bulldog       0.94      0.94      0.94        17\n",
            "  golden_retriever       0.95      0.95      0.95        21\n",
            "          malamute       1.00      1.00      1.00        24\n",
            "               pug       1.00      0.96      0.98        28\n",
            "     saint_bernard       0.95      1.00      0.98        21\n",
            "scottish_deerhound       1.00      1.00      1.00        32\n",
            "   tibetan_mastiff       1.00      0.96      0.98        25\n",
            "\n",
            "          accuracy                           0.98       236\n",
            "         macro avg       0.97      0.98      0.97       236\n",
            "      weighted avg       0.98      0.98      0.98       236\n",
            "\n"
          ],
          "name": "stdout"
        }
      ]
    },
    {
      "cell_type": "markdown",
      "metadata": {
        "id": "mI8uYcRHnNLi"
      },
      "source": [
        "##### **Confusion Matrix**"
      ]
    },
    {
      "cell_type": "code",
      "metadata": {
        "colab": {
          "base_uri": "https://localhost:8080/"
        },
        "id": "q3J2Zy_8b2cT",
        "outputId": "c407de11-3d2f-4ba4-b9e7-a834ca779fbc"
      },
      "source": [
        "print(confusion_matrix(y_test, predicted))"
      ],
      "execution_count": 98,
      "outputs": [
        {
          "output_type": "stream",
          "text": [
            "[[35  0  0  0  0  0  0  0  0  0]\n",
            " [ 0 15  0  0  0  0  0  0  0  0]\n",
            " [ 0  1 17  0  0  0  0  0  0  0]\n",
            " [ 0  0  0 16  0  0  0  1  0  0]\n",
            " [ 0  1  0  0 20  0  0  0  0  0]\n",
            " [ 0  0  0  0  0 24  0  0  0  0]\n",
            " [ 0  0  0  1  0  0 27  0  0  0]\n",
            " [ 0  0  0  0  0  0  0 21  0  0]\n",
            " [ 0  0  0  0  0  0  0  0 32  0]\n",
            " [ 0  0  0  0  1  0  0  0  0 24]]\n"
          ],
          "name": "stdout"
        }
      ]
    },
    {
      "cell_type": "markdown",
      "metadata": {
        "id": "kVdiZT1anSsa"
      },
      "source": [
        "#####**Roc Auc_ Score**"
      ]
    },
    {
      "cell_type": "code",
      "metadata": {
        "colab": {
          "base_uri": "https://localhost:8080/"
        },
        "id": "XyFjqhHddUiZ",
        "outputId": "5557794c-1e2c-48f0-e194-f3eb3c3352e9"
      },
      "source": [
        "print('roc_auc_score')\r\n",
        "print(roc_auc_score(y_test, prediction, multi_class= 'ovo'))"
      ],
      "execution_count": 99,
      "outputs": [
        {
          "output_type": "stream",
          "text": [
            "roc_auc_score\n",
            "0.999378305643245\n"
          ],
          "name": "stdout"
        }
      ]
    }
  ]
}